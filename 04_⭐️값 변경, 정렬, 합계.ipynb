{
 "cells": [
  {
   "cell_type": "markdown",
   "id": "5690e030",
   "metadata": {},
   "source": [
    "# 문제\n",
    "- 1. views 컬럼의 결측 데이터 0 대체\n",
    "- 2. 1컬럼 상위 10번째 값 구하기\n",
    "- 3. 1컬럼에서 2값으로 상위 10개의 값모두 대체\n",
    "- 4. 1컬럼 전체합 정수로 구하기"
   ]
  },
  {
   "cell_type": "markdown",
   "id": "6c981248",
   "metadata": {},
   "source": [
    "## 오답 \n",
    "- 내림차순 정렬 -> sort_values('열이름', ascending= False)\n",
    "- 10번째 행인데 iloc쓸거면 10이 아닌 9가 되어야 한다...!\n",
    "- df['views'].sort_values(ascending=False)[:10] -> 복사본만들어 선택하기때문에 대체안됨 \n",
    "   - iloc, loc 이용"
   ]
  },
  {
   "cell_type": "code",
   "execution_count": 54,
   "id": "46f4f1b6",
   "metadata": {},
   "outputs": [
    {
     "data": {
      "text/html": [
       "<div>\n",
       "<style scoped>\n",
       "    .dataframe tbody tr th:only-of-type {\n",
       "        vertical-align: middle;\n",
       "    }\n",
       "\n",
       "    .dataframe tbody tr th {\n",
       "        vertical-align: top;\n",
       "    }\n",
       "\n",
       "    .dataframe thead th {\n",
       "        text-align: right;\n",
       "    }\n",
       "</style>\n",
       "<table border=\"1\" class=\"dataframe\">\n",
       "  <thead>\n",
       "    <tr style=\"text-align: right;\">\n",
       "      <th></th>\n",
       "      <th>id</th>\n",
       "      <th>age</th>\n",
       "      <th>city</th>\n",
       "      <th>f1</th>\n",
       "      <th>f2</th>\n",
       "      <th>f3</th>\n",
       "      <th>f4</th>\n",
       "      <th>f5</th>\n",
       "      <th>subscribed</th>\n",
       "      <th>views</th>\n",
       "    </tr>\n",
       "  </thead>\n",
       "  <tbody>\n",
       "    <tr>\n",
       "      <th>0</th>\n",
       "      <td>id01</td>\n",
       "      <td>2.0</td>\n",
       "      <td>서울</td>\n",
       "      <td>NaN</td>\n",
       "      <td>0</td>\n",
       "      <td>gold</td>\n",
       "      <td>ENFJ</td>\n",
       "      <td>91.297791</td>\n",
       "      <td>2024-07-16</td>\n",
       "      <td>6820.0</td>\n",
       "    </tr>\n",
       "    <tr>\n",
       "      <th>1</th>\n",
       "      <td>id02</td>\n",
       "      <td>9.0</td>\n",
       "      <td>서울</td>\n",
       "      <td>70.0</td>\n",
       "      <td>1</td>\n",
       "      <td>NaN</td>\n",
       "      <td>ENFJ</td>\n",
       "      <td>60.339826</td>\n",
       "      <td>2024-05-12</td>\n",
       "      <td>2534.0</td>\n",
       "    </tr>\n",
       "    <tr>\n",
       "      <th>2</th>\n",
       "      <td>id03</td>\n",
       "      <td>27.0</td>\n",
       "      <td>서울</td>\n",
       "      <td>61.0</td>\n",
       "      <td>1</td>\n",
       "      <td>gold</td>\n",
       "      <td>ISTJ</td>\n",
       "      <td>17.252986</td>\n",
       "      <td>2024-03-16</td>\n",
       "      <td>7312.0</td>\n",
       "    </tr>\n",
       "    <tr>\n",
       "      <th>3</th>\n",
       "      <td>id04</td>\n",
       "      <td>75.0</td>\n",
       "      <td>서울</td>\n",
       "      <td>NaN</td>\n",
       "      <td>2</td>\n",
       "      <td>NaN</td>\n",
       "      <td>INFP</td>\n",
       "      <td>52.667078</td>\n",
       "      <td>2024-07-21</td>\n",
       "      <td>493.0</td>\n",
       "    </tr>\n",
       "    <tr>\n",
       "      <th>4</th>\n",
       "      <td>id05</td>\n",
       "      <td>24.0</td>\n",
       "      <td>서울</td>\n",
       "      <td>85.0</td>\n",
       "      <td>2</td>\n",
       "      <td>NaN</td>\n",
       "      <td>ISFJ</td>\n",
       "      <td>29.269869</td>\n",
       "      <td>2024-03-07</td>\n",
       "      <td>1338.0</td>\n",
       "    </tr>\n",
       "  </tbody>\n",
       "</table>\n",
       "</div>"
      ],
      "text/plain": [
       "     id   age city    f1  f2    f3    f4         f5  subscribed   views\n",
       "0  id01   2.0   서울   NaN   0  gold  ENFJ  91.297791  2024-07-16  6820.0\n",
       "1  id02   9.0   서울  70.0   1   NaN  ENFJ  60.339826  2024-05-12  2534.0\n",
       "2  id03  27.0   서울  61.0   1  gold  ISTJ  17.252986  2024-03-16  7312.0\n",
       "3  id04  75.0   서울   NaN   2   NaN  INFP  52.667078  2024-07-21   493.0\n",
       "4  id05  24.0   서울  85.0   2   NaN  ISFJ  29.269869  2024-03-07  1338.0"
      ]
     },
     "execution_count": 54,
     "metadata": {},
     "output_type": "execute_result"
    }
   ],
   "source": [
    "import pandas as pd\n",
    "df = pd.read_csv(\"../data/type1_data1.csv\")\n",
    "\n",
    "df.head()"
   ]
  },
  {
   "cell_type": "code",
   "execution_count": 55,
   "id": "bd79fe0d",
   "metadata": {},
   "outputs": [
    {
     "name": "stderr",
     "output_type": "stream",
     "text": [
      "/var/folders/_9/llxc5y7x5n92cx6h7g9nfrl40000gn/T/ipykernel_61309/4042982197.py:2: FutureWarning: A value is trying to be set on a copy of a DataFrame or Series through chained assignment using an inplace method.\n",
      "The behavior will change in pandas 3.0. This inplace method will never work because the intermediate object on which we are setting values always behaves as a copy.\n",
      "\n",
      "For example, when doing 'df[col].method(value, inplace=True)', try using 'df.method({col: value}, inplace=True)' or df[col] = df[col].method(value) instead, to perform the operation inplace on the original object.\n",
      "\n",
      "\n",
      "  df['views'].fillna(0, inplace = True)\n"
     ]
    }
   ],
   "source": [
    "#1.\n",
    "df['views'].fillna(0, inplace = True)\n"
   ]
  },
  {
   "cell_type": "code",
   "execution_count": 61,
   "id": "195b477c",
   "metadata": {},
   "outputs": [
    {
     "data": {
      "text/plain": [
       "9877.0"
      ]
     },
     "execution_count": 61,
     "metadata": {},
     "output_type": "execute_result"
    }
   ],
   "source": [
    "#2.\n",
    "view10 = df['views'].sort_values(ascending= False).iloc[9]\n",
    "view10"
   ]
  },
  {
   "cell_type": "code",
   "execution_count": 62,
   "id": "160c9775",
   "metadata": {},
   "outputs": [
    {
     "data": {
      "text/plain": [
       "5      21550.0\n",
       "56     19589.0\n",
       "83     19139.0\n",
       "32     17421.0\n",
       "100    15535.0\n",
       "10     15535.0\n",
       "104    13543.0\n",
       "114    10346.0\n",
       "9       9992.0\n",
       "113     9877.0\n",
       "Name: views, dtype: float64"
      ]
     },
     "execution_count": 62,
     "metadata": {},
     "output_type": "execute_result"
    }
   ],
   "source": [
    "#3. 오답\n",
    "df['views'].sort_values(ascending=False)[:10] = view10\n",
    "df['views'].sort_values(ascending=False)[:10]"
   ]
  },
  {
   "cell_type": "code",
   "execution_count": 63,
   "id": "82248479",
   "metadata": {},
   "outputs": [
    {
     "data": {
      "text/plain": [
       "Index([5, 56, 83, 32, 100, 10, 104, 114, 9, 113], dtype='int64')"
      ]
     },
     "execution_count": 63,
     "metadata": {},
     "output_type": "execute_result"
    }
   ],
   "source": [
    "#3. 정답\n",
    "top10_index = df['views'].sort_values(ascending=False)[:10].index\n",
    "top10_index"
   ]
  },
  {
   "cell_type": "code",
   "execution_count": 64,
   "id": "a5ffe866",
   "metadata": {},
   "outputs": [
    {
     "name": "stderr",
     "output_type": "stream",
     "text": [
      "/var/folders/_9/llxc5y7x5n92cx6h7g9nfrl40000gn/T/ipykernel_61309/2920477782.py:1: FutureWarning: ChainedAssignmentError: behaviour will change in pandas 3.0!\n",
      "You are setting values through chained assignment. Currently this works in certain cases, but when using Copy-on-Write (which will become the default behaviour in pandas 3.0) this will never work to update the original DataFrame or Series, because the intermediate object on which we are setting values will behave as a copy.\n",
      "A typical example is when you are setting values in a column of a DataFrame, like:\n",
      "\n",
      "df[\"col\"][row_indexer] = value\n",
      "\n",
      "Use `df.loc[row_indexer, \"col\"] = values` instead, to perform the assignment in a single step and ensure this keeps updating the original `df`.\n",
      "\n",
      "See the caveats in the documentation: https://pandas.pydata.org/pandas-docs/stable/user_guide/indexing.html#returning-a-view-versus-a-copy\n",
      "\n",
      "  df['views'].loc[top10_index] = view10\n",
      "/var/folders/_9/llxc5y7x5n92cx6h7g9nfrl40000gn/T/ipykernel_61309/2920477782.py:1: SettingWithCopyWarning: \n",
      "A value is trying to be set on a copy of a slice from a DataFrame\n",
      "\n",
      "See the caveats in the documentation: https://pandas.pydata.org/pandas-docs/stable/user_guide/indexing.html#returning-a-view-versus-a-copy\n",
      "  df['views'].loc[top10_index] = view10\n"
     ]
    }
   ],
   "source": [
    "df['views'].loc[top10_index] = view10"
   ]
  },
  {
   "cell_type": "code",
   "execution_count": 65,
   "id": "5120b051",
   "metadata": {},
   "outputs": [
    {
     "data": {
      "text/plain": [
       "100    9877.0\n",
       "114    9877.0\n",
       "5      9877.0\n",
       "113    9877.0\n",
       "56     9877.0\n",
       "9      9877.0\n",
       "10     9877.0\n",
       "104    9877.0\n",
       "32     9877.0\n",
       "83     9877.0\n",
       "Name: views, dtype: float64"
      ]
     },
     "execution_count": 65,
     "metadata": {},
     "output_type": "execute_result"
    }
   ],
   "source": [
    " # 확인\n",
    "df['views'].sort_values(ascending=False)[:10]"
   ]
  },
  {
   "cell_type": "code",
   "execution_count": 66,
   "id": "cfd26bbd",
   "metadata": {},
   "outputs": [
    {
     "data": {
      "text/plain": [
       "652812"
      ]
     },
     "execution_count": 66,
     "metadata": {},
     "output_type": "execute_result"
    }
   ],
   "source": [
    "#4. \n",
    "answer = int(df['views'].sum())\n",
    "answer"
   ]
  },
  {
   "cell_type": "code",
   "execution_count": null,
   "id": "a674955f",
   "metadata": {},
   "outputs": [],
   "source": []
  }
 ],
 "metadata": {
  "kernelspec": {
   "display_name": "base",
   "language": "python",
   "name": "python3"
  },
  "language_info": {
   "codemirror_mode": {
    "name": "ipython",
    "version": 3
   },
   "file_extension": ".py",
   "mimetype": "text/x-python",
   "name": "python",
   "nbconvert_exporter": "python",
   "pygments_lexer": "ipython3",
   "version": "3.12.7"
  }
 },
 "nbformat": 4,
 "nbformat_minor": 5
}
