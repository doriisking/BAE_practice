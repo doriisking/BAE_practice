{
 "cells": [
  {
   "cell_type": "markdown",
   "id": "a5b1f9cc",
   "metadata": {},
   "source": [
    "## 문제 \n",
    "- 1. views의 1사분위수, 3사분위수, IQR 계산하기\n",
    "- 2. 이상치 조건에 맞는 데이터 찾기\n",
    "- 3. 이상치 데이터의 views 컬럼합 정수로 구하기\n"
   ]
  },
  {
   "cell_type": "markdown",
   "id": "7aba32ab",
   "metadata": {},
   "source": [
    "## 오답\n",
    "- or 는 |"
   ]
  },
  {
   "cell_type": "code",
   "execution_count": 1,
   "id": "c58fd61c",
   "metadata": {},
   "outputs": [],
   "source": [
    "import pandas as pd\n",
    "df = pd.read_csv(\"../data/type1_data1.csv\")"
   ]
  },
  {
   "cell_type": "code",
   "execution_count": 5,
   "id": "f2ae4698",
   "metadata": {},
   "outputs": [
    {
     "data": {
      "text/plain": [
       "3031.0"
      ]
     },
     "execution_count": 5,
     "metadata": {},
     "output_type": "execute_result"
    }
   ],
   "source": [
    "#1. \n",
    "I1 = df['views'].quantile(.25)\n",
    "I3 = df['views'].quantile(.75) #8373\n",
    "I1"
   ]
  },
  {
   "cell_type": "code",
   "execution_count": 6,
   "id": "39d20940",
   "metadata": {},
   "outputs": [
    {
     "data": {
      "text/plain": [
       "5442.5"
      ]
     },
     "execution_count": 6,
     "metadata": {},
     "output_type": "execute_result"
    }
   ],
   "source": [
    "IQR = I3-I1\n",
    "IQR"
   ]
  },
  {
   "cell_type": "code",
   "execution_count": 13,
   "id": "7a10f03b",
   "metadata": {},
   "outputs": [
    {
     "data": {
      "text/html": [
       "<div>\n",
       "<style scoped>\n",
       "    .dataframe tbody tr th:only-of-type {\n",
       "        vertical-align: middle;\n",
       "    }\n",
       "\n",
       "    .dataframe tbody tr th {\n",
       "        vertical-align: top;\n",
       "    }\n",
       "\n",
       "    .dataframe thead th {\n",
       "        text-align: right;\n",
       "    }\n",
       "</style>\n",
       "<table border=\"1\" class=\"dataframe\">\n",
       "  <thead>\n",
       "    <tr style=\"text-align: right;\">\n",
       "      <th></th>\n",
       "      <th>id</th>\n",
       "      <th>age</th>\n",
       "      <th>city</th>\n",
       "      <th>f1</th>\n",
       "      <th>f2</th>\n",
       "      <th>f3</th>\n",
       "      <th>f4</th>\n",
       "      <th>f5</th>\n",
       "      <th>subscribed</th>\n",
       "      <th>views</th>\n",
       "    </tr>\n",
       "  </thead>\n",
       "  <tbody>\n",
       "    <tr>\n",
       "      <th>5</th>\n",
       "      <td>id06</td>\n",
       "      <td>22.0</td>\n",
       "      <td>서울</td>\n",
       "      <td>57.0</td>\n",
       "      <td>0</td>\n",
       "      <td>vip</td>\n",
       "      <td>INTP</td>\n",
       "      <td>20.129444</td>\n",
       "      <td>2024-09-12</td>\n",
       "      <td>21550.0</td>\n",
       "    </tr>\n",
       "    <tr>\n",
       "      <th>32</th>\n",
       "      <td>id32</td>\n",
       "      <td>25.0</td>\n",
       "      <td>부산</td>\n",
       "      <td>64.0</td>\n",
       "      <td>0</td>\n",
       "      <td>vip</td>\n",
       "      <td>ISFJ</td>\n",
       "      <td>13.049921</td>\n",
       "      <td>2024-05-24</td>\n",
       "      <td>17421.0</td>\n",
       "    </tr>\n",
       "    <tr>\n",
       "      <th>56</th>\n",
       "      <td>id56</td>\n",
       "      <td>59.0</td>\n",
       "      <td>대구</td>\n",
       "      <td>NaN</td>\n",
       "      <td>1</td>\n",
       "      <td>vip</td>\n",
       "      <td>ESTJ</td>\n",
       "      <td>73.586397</td>\n",
       "      <td>2024-04-05</td>\n",
       "      <td>19589.0</td>\n",
       "    </tr>\n",
       "    <tr>\n",
       "      <th>83</th>\n",
       "      <td>id83</td>\n",
       "      <td>73.0</td>\n",
       "      <td>경기</td>\n",
       "      <td>50.0</td>\n",
       "      <td>1</td>\n",
       "      <td>vip</td>\n",
       "      <td>ENTP</td>\n",
       "      <td>80.138280</td>\n",
       "      <td>2024-09-26</td>\n",
       "      <td>19139.0</td>\n",
       "    </tr>\n",
       "  </tbody>\n",
       "</table>\n",
       "</div>"
      ],
      "text/plain": [
       "      id   age city    f1  f2   f3    f4         f5  subscribed    views\n",
       "5   id06  22.0   서울  57.0   0  vip  INTP  20.129444  2024-09-12  21550.0\n",
       "32  id32  25.0   부산  64.0   0  vip  ISFJ  13.049921  2024-05-24  17421.0\n",
       "56  id56  59.0   대구   NaN   1  vip  ESTJ  73.586397  2024-04-05  19589.0\n",
       "83  id83  73.0   경기  50.0   1  vip  ENTP  80.138280  2024-09-26  19139.0"
      ]
     },
     "execution_count": 13,
     "metadata": {},
     "output_type": "execute_result"
    }
   ],
   "source": [
    "#2. \n",
    "mask_min = I1 - (IQR*1.5)\n",
    "mask_max = I3 + (IQR*1.5)\n",
    "outlier = df[(df['views'] < mask_min) |  (df['views'] > mask_max)]\n",
    "outlier"
   ]
  },
  {
   "cell_type": "code",
   "execution_count": 14,
   "id": "629c20f2",
   "metadata": {},
   "outputs": [
    {
     "data": {
      "text/plain": [
       "77699"
      ]
     },
     "execution_count": 14,
     "metadata": {},
     "output_type": "execute_result"
    }
   ],
   "source": [
    "#3. \n",
    "int(outlier['views'].sum())"
   ]
  }
 ],
 "metadata": {
  "kernelspec": {
   "display_name": "base",
   "language": "python",
   "name": "python3"
  },
  "language_info": {
   "codemirror_mode": {
    "name": "ipython",
    "version": 3
   },
   "file_extension": ".py",
   "mimetype": "text/x-python",
   "name": "python",
   "nbconvert_exporter": "python",
   "pygments_lexer": "ipython3",
   "version": "3.12.7"
  }
 },
 "nbformat": 4,
 "nbformat_minor": 5
}
